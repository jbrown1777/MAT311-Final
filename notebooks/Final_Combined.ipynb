{
 "cells": [
  {
   "cell_type": "markdown",
   "id": "e563591d-2e74-40b7-91d0-089e0c5c1e0c",
   "metadata": {},
   "source": [
    "# Import The Necessary Modules"
   ]
  },
  {
   "cell_type": "code",
   "execution_count": 1,
   "id": "19b3f01f-507a-40bb-a1e6-3a9955d3437b",
   "metadata": {},
   "outputs": [],
   "source": [
    "import pandas as pd\n",
    "import seaborn as sns\n",
    "import numpy as np\n",
    "import matplotlib.pyplot as plt\n",
    "import re\n",
    "import numpy as np\n",
    "from sklearn.model_selection import train_test_split # make training & testing data\n",
    "from sklearn.linear_model import LogisticRegression\n",
    "from sklearn.tree import DecisionTreeClassifier, plot_tree\n",
    "from sklearn.neighbors import KNeighborsClassifier\n",
    "from sklearn.naive_bayes import GaussianNB\n",
    "from sklearn.metrics import confusion_matrix, accuracy_score, precision_score, recall_score, f1_score, roc_curve, roc_auc_score"
   ]
  },
  {
   "cell_type": "markdown",
   "id": "5a68b0bb-743d-4cd5-b9ed-efe1ecf56b23",
   "metadata": {},
   "source": [
    "### Helper Functions"
   ]
  },
  {
   "cell_type": "code",
   "execution_count": 2,
   "id": "f06f4d33-a6fd-4f87-8a00-76ea57dc3adb",
   "metadata": {},
   "outputs": [],
   "source": [
    "from sklearn.metrics import confusion_matrix, accuracy_score, precision_score, recall_score, f1_score\n",
    "\n",
    "def specificity_score(y_true, y_pred_model):\n",
    "    # Separate Confusion Matrix for Specificity Value\n",
    "    TP = confusion_matrix(y_true,y_pred_model)[1][1]\n",
    "    TN = confusion_matrix(y_true,y_pred_model)[0][0]\n",
    "    FP = confusion_matrix(y_true,y_pred_model)[0][1]\n",
    "    FN = confusion_matrix(y_true,y_pred_model)[1][0]\n",
    "    return TN / (TN + FP)\n",
    "\n",
    "def printConfusionMatrix(y_true, y_pred_model, model, status):\n",
    "    confusion_matrix_model = confusion_matrix(y_true, y_pred_model)\n",
    "    sns.heatmap(confusion_matrix_model, annot=True, fmt='d', cmap='Blues', cbar=True)\n",
    "    plt.title(f'Confusion Matrix - {model} ({status})')\n",
    "    plt.xlabel('Predicted')\n",
    "    plt.ylabel('Actual')\n",
    "    plt.show()\n",
    "    print()\n",
    "    \n",
    "def printResults(y_true, y_pred_model):\n",
    "    print(f'Accuracy: {accuracy_score(y_true, y_pred_model)}')\n",
    "    print(f'Precision: {precision_score(y_true, y_pred_model)}')\n",
    "    print(f'Recall: {recall_score(y_true, y_pred_model)}')\n",
    "    print(f'Specificity: {specificity_score(y_true, y_pred_model)}')\n",
    "    print(f'F1-Score: {f1_score(y_true, y_pred_model)}')"
   ]
  },
  {
   "cell_type": "markdown",
   "id": "a0a7a9e5-0a92-4889-8538-b72ce923ac83",
   "metadata": {},
   "source": [
    "# Set Up Autism DataFrame"
   ]
  },
  {
   "cell_type": "code",
   "execution_count": 3,
   "id": "8b9affb5-0e0c-4ab6-8311-dd7d0ac13d7a",
   "metadata": {},
   "outputs": [],
   "source": [
    "# Convert excel file into DataFrame\n",
    "# If you have trouble reading this file, you may need to do this command in the terminal: pip install openpyxl \n",
    "autism = pd.read_excel('Autism_Screening_Adult.xlsx')\n",
    "autism = autism.drop(columns=['Ethnicity','Country_of_Res','Used_App_Before','Relation','Age_Desc'])\n",
    "\n",
    "# Convert \"yes\" values to 1 and \"no\" values to 0\n",
    "autism = autism.replace({'no':0,'yes':1,'NO':0,'YES':1})\n",
    "\n",
    "# Convert \"f\" to 0 and \"m\" to 1\n",
    "autism = autism.replace({'f':0,'m':1})\n",
    "\n",
    "# Convert '?' and the outlier to NaN\n",
    "autism = autism.replace('?',np.nan)\n",
    "autism = autism.replace(383.0,np.nan)\n",
    "\n",
    "# Drop missing values and outlier\n",
    "autism = autism.dropna()"
   ]
  },
  {
   "cell_type": "markdown",
   "id": "0cc15ee8-2102-4331-a8db-2543f7b017e9",
   "metadata": {},
   "source": [
    "# Set Up Training, Validation, and Test Data"
   ]
  },
  {
   "cell_type": "code",
   "execution_count": 4,
   "id": "ea88894f-8d6f-4e01-95b7-7e44d3930c35",
   "metadata": {},
   "outputs": [],
   "source": [
    "X = autism.drop(columns=['Age','Result','Class/ASD'])\n",
    "y = autism['Class/ASD']\n",
    "\n",
    "### Separate Training, Validation, and Test Data ###\n",
    "seed=np.random.seed(123)\n",
    "\n",
    "# Set up the Test Data\n",
    "X_val, X_test, y_val, y_test = train_test_split(X, y, test_size=141) #70 rows is 10% of the autism dataframe; we added one to leave 630 rows left \n",
    "\n",
    "# Set up Training and Validation Data\n",
    "X_train, X_val, y_train, y_val = train_test_split(X_val, y_val, test_size=140) # 140 rows is 20% of the autism dataframe"
   ]
  },
  {
   "cell_type": "markdown",
   "id": "d8a07212-ca6d-4428-82fe-5f985c9cbb05",
   "metadata": {},
   "source": [
    "### Sizes of Each Dataset"
   ]
  },
  {
   "cell_type": "code",
   "execution_count": 5,
   "id": "378d507e-1118-49f1-a4d8-55b33f73f807",
   "metadata": {},
   "outputs": [
    {
     "name": "stdout",
     "output_type": "stream",
     "text": [
      "Training\n",
      "X: (420, 13)\n",
      "y: (420,)\n",
      "\n",
      "Validation\n",
      "X: (140, 13)\n",
      "y: (140,)\n",
      "\n",
      "Test\n",
      "X: (141, 13)\n",
      "y: (141,)\n"
     ]
    }
   ],
   "source": [
    "# Print sizes of each set\n",
    "print('Training')\n",
    "print('X:',X_train.shape)\n",
    "print('y:',y_train.shape)\n",
    "print()\n",
    "\n",
    "print('Validation')\n",
    "print('X:',X_val.shape)\n",
    "print('y:',y_val.shape)\n",
    "print()\n",
    "\n",
    "print('Test')\n",
    "print('X:',X_test.shape)\n",
    "print('y:',y_test.shape)"
   ]
  },
  {
   "cell_type": "markdown",
   "id": "f1ad8712-a96d-4583-a11d-28295a2ea097",
   "metadata": {},
   "source": [
    "# Models"
   ]
  },
  {
   "cell_type": "markdown",
   "id": "aebf4fd7-2c6e-4b49-afb1-ce6887d0ccf3",
   "metadata": {},
   "source": [
    "## K Nearest Neighbors Classifier"
   ]
  },
  {
   "cell_type": "code",
   "execution_count": 16,
   "id": "4b03eee2-53c5-46c5-b431-ad340dbb5b93",
   "metadata": {},
   "outputs": [
    {
     "name": "stdout",
     "output_type": "stream",
     "text": [
      "0.9785714285714285\n",
      "13\n"
     ]
    }
   ],
   "source": [
    "best_score = 0\n",
    "best_k = 0\n",
    "\n",
    "for k in range(1,21):\n",
    "    knn = KNeighborsClassifier(n_neighbors=k)\n",
    "    knn.fit(X_train, y_train)\n",
    "    #y_pred_val = knn.predict(X_val)\n",
    "    score = knn.score(X_val, y_val)\n",
    "    if score > best_score:\n",
    "        best_score = score\n",
    "        best_k = k\n",
    "\n",
    "print(best_score)\n",
    "print(best_k)"
   ]
  },
  {
   "cell_type": "markdown",
   "id": "6d55ef49-e155-4e71-a759-e6d4eab9b8a6",
   "metadata": {},
   "source": [
    "### Validation"
   ]
  },
  {
   "cell_type": "code",
   "execution_count": 7,
   "id": "c4493852-f687-453f-a722-9a119dc00a29",
   "metadata": {},
   "outputs": [
    {
     "data": {
      "image/png": "[encoded data removed]",
      "text/plain": [
       "<Figure size 432x288 with 2 Axes>"
      ]
     },
     "metadata": {
      "needs_background": "light"
     },
     "output_type": "display_data"
    },
    {
     "name": "stdout",
     "output_type": "stream",
     "text": [
      "\n",
      "Accuracy: 0.9785714285714285\n",
      "Precision: 1.0\n",
      "Recall: 0.926829268292683\n",
      "Specificity: 1.0\n",
      "F1-Score: 0.9620253164556962\n"
     ]
    }
   ],
   "source": [
    "#from Helper_Functions.helpers import printConfusionMatrix, printResults\n",
    "\n",
    "# Generate new model with the best k-value\n",
    "knn = KNeighborsClassifier(n_neighbors=best_k)\n",
    "\n",
    "# Validate the new model\n",
    "knn.fit(X_train, y_train)\n",
    "y_pred_val_knn = knn.predict(X_val)\n",
    "\n",
    "# Print values of the confusion matrix\n",
    "printConfusionMatrix(y_val, y_pred_val_knn, 'KNN', 'Validation')\n",
    "\n",
    "# Print results\n",
    "printResults(y_val, y_pred_val_knn)"
   ]
  },
  {
   "cell_type": "markdown",
   "id": "b5c9026b-194a-45e7-8fae-0accb8d4bb24",
   "metadata": {},
   "source": [
    "## Gaussian Naive Bayes Classifier"
   ]
  },
  {
   "cell_type": "code",
   "execution_count": 8,
   "id": "3ce2a897-9000-4a2d-ad0f-965d26a33cd2",
   "metadata": {},
   "outputs": [],
   "source": [
    "naive_bayes = GaussianNB()\n",
    "naive_bayes.fit(X_train, y_train)\n",
    "y_pred_val_bayes = naive_bayes.predict(X_val)"
   ]
  },
  {
   "cell_type": "markdown",
   "id": "ea7f7a58-390c-43ba-ba25-0e4fa259c70e",
   "metadata": {},
   "source": [
    "### Validation"
   ]
  },
  {
   "cell_type": "code",
   "execution_count": 9,
   "id": "82b3e50a-d094-4cd2-8ba3-04d8ec7dea79",
   "metadata": {},
   "outputs": [
    {
     "data": {
      "image/png": "[encoded data removed]",
      "text/plain": [
       "<Figure size 432x288 with 2 Axes>"
      ]
     },
     "metadata": {
      "needs_background": "light"
     },
     "output_type": "display_data"
    },
    {
     "name": "stdout",
     "output_type": "stream",
     "text": [
      "\n",
      "Accuracy: 0.95\n",
      "Precision: 0.9473684210526315\n",
      "Recall: 0.8780487804878049\n",
      "Specificity: 0.9797979797979798\n",
      "F1-Score: 0.9113924050632911\n"
     ]
    }
   ],
   "source": [
    "from Helper_Functions.helpers import printConfusionMatrix, printResults\n",
    "\n",
    "# Print values of the confusion matrix\n",
    "printConfusionMatrix(y_val, y_pred_val_bayes, 'Gaussian Naive Bayes', 'Validation')\n",
    "\n",
    "# Print results\n",
    "printResults(y_val, y_pred_val_bayes)"
   ]
  },
  {
   "cell_type": "markdown",
   "id": "e554e0c0-e20b-42e5-ba10-603dde7dd2c7",
   "metadata": {},
   "source": [
    "## Decision Tree Classifier"
   ]
  },
  {
   "cell_type": "code",
   "execution_count": 10,
   "id": "5435f5df-12fa-4e4a-b892-179d3d9a8581",
   "metadata": {},
   "outputs": [
    {
     "name": "stdout",
     "output_type": "stream",
     "text": [
      "Index(['A1_Score', 'A2_Score', 'A3_Score', 'A4_Score', 'A5_Score', 'A6_Score',\n",
      "       'A7_Score', 'A8_Score', 'A9_Score', 'A10_Score', 'Age', 'Gender',\n",
      "       'Jaundice', 'Relative', 'Result', 'Class/ASD'],\n",
      "      dtype='object')\n"
     ]
    }
   ],
   "source": [
    "# Print the columns to help choose features\n",
    "print(autism.columns)"
   ]
  },
  {
   "cell_type": "code",
   "execution_count": 11,
   "id": "1da50066-dc3c-4558-a147-c3e347bf1493",
   "metadata": {},
   "outputs": [],
   "source": [
    "features = X_train.columns\n",
    "depth_limit = None\n",
    "\n",
    "decision_tree = DecisionTreeClassifier(criterion='entropy', max_depth=depth_limit)\n",
    "\n",
    "# Fit the model\n",
    "decision_tree.fit(X_train[features], y_train)\n",
    "\n",
    "# Predict on validation data\n",
    "y_pred_val_decision_tree = decision_tree.predict(X_val[features])"
   ]
  },
  {
   "cell_type": "markdown",
   "id": "82f1335c-d65b-4038-abad-9837d2312f8b",
   "metadata": {},
   "source": [
    "### Validation"
   ]
  },
  {
   "cell_type": "code",
   "execution_count": 12,
   "id": "2eaa2f33-c5be-44a5-ad40-eb32878f051b",
   "metadata": {},
   "outputs": [
    {
     "data": {
      "image/png": "[encoded data removed]",
      "text/plain": [
       "<Figure size 432x288 with 2 Axes>"
      ]
     },
     "metadata": {
      "needs_background": "light"
     },
     "output_type": "display_data"
    },
    {
     "name": "stdout",
     "output_type": "stream",
     "text": [
      "\n",
      "Accuracy: 0.9642857142857143\n",
      "Precision: 0.95\n",
      "Recall: 0.926829268292683\n",
      "Specificity: 0.9797979797979798\n",
      "F1-Score: 0.9382716049382716\n",
      "\n"
     ]
    },
    {
     "data": {
      "image/png": "[encoded data removed]",
      "text/plain": [
       "<Figure size 288x288 with 1 Axes>"
      ]
     },
     "metadata": {
      "needs_background": "light"
     },
     "output_type": "display_data"
    }
   ],
   "source": [
    "from Helper_Functions.helpers import printConfusionMatrix, printResults\n",
    "\n",
    "# Print values of the confusion matrix\n",
    "printConfusionMatrix(y_val, y_pred_val_decision_tree, 'Decision Tree', 'Validation')\n",
    "\n",
    "# Print results\n",
    "printResults(y_val, y_pred_val_decision_tree)\n",
    "print()\n",
    "\n",
    "# Print the tree\n",
    "plt.figure(figsize=(4,4))\n",
    "plot_tree(decision_tree, feature_names=features, class_names=['No ASD','Yes ASD'], filled=True)\n",
    "plt.title(f'Decision Tree (Features: {features}, Max Depth: {depth_limit})')\n",
    "plt.show()"
   ]
  },
  {
   "cell_type": "markdown",
   "id": "5bc46cf4-d56b-47a4-ab93-886bafcfcea5",
   "metadata": {},
   "source": [
    "## ROC Curve With AUC"
   ]
  },
  {
   "cell_type": "code",
   "execution_count": 13,
   "id": "609ff9eb-8580-48a1-bff0-cf17a0245a95",
   "metadata": {},
   "outputs": [
    {
     "data": {
      "image/png": "[encoded data removed]",
      "text/plain": [
       "<Figure size 432x288 with 1 Axes>"
      ]
     },
     "metadata": {
      "needs_background": "light"
     },
     "output_type": "display_data"
    },
    {
     "name": "stdout",
     "output_type": "stream",
     "text": [
      "\n",
      "\n",
      "KNN AUC:           0.9634146341463414\n",
      "Naive Bayes AUC:   0.9289233801428923\n",
      "Decision Tree AUC: 0.9533136240453313\n"
     ]
    }
   ],
   "source": [
    "fig, ax = plt.subplots()\n",
    "\n",
    "# K-Nearest Neighbors\n",
    "y_knn_pred_val_proba = knn.predict_proba(X_val)\n",
    "knn_fpr, knn_tpr, knn_threshold = roc_curve(y_val, y_knn_pred_val_proba[:,1])\n",
    "knn_auc = roc_auc_score(y_val, y_pred_val_knn)\n",
    "plt.plot(knn_fpr, knn_tpr, label='KNN')\n",
    "\n",
    "# Bayes\n",
    "y_bayes_pred_val_proba = naive_bayes.predict_proba(X_val)\n",
    "bayes_fpr, bayes_tpr, bayes_threshold = roc_curve(y_val, y_bayes_pred_val_proba[:,1])\n",
    "bayes_auc = roc_auc_score(y_val, y_pred_val_bayes)\n",
    "plt.plot(bayes_fpr, bayes_tpr, label='Naive Bayes')\n",
    "\n",
    "# Decision Tree\n",
    "y_dt_pred_val_proba = decision_tree.predict_proba(X_val)\n",
    "dt_fpr, dt_tpr, dt_threshold = roc_curve(y_val, y_dt_pred_val_proba[:,1])\n",
    "dt_auc = roc_auc_score(y_val, y_pred_val_decision_tree)\n",
    "plt.plot(dt_fpr, dt_tpr, label='Decision Tree')\n",
    "\n",
    "ax.legend()\n",
    "plt.show()\n",
    "print()\n",
    "print()\n",
    "print('KNN AUC:          ',knn_auc)\n",
    "print('Naive Bayes AUC:  ', bayes_auc)\n",
    "print('Decision Tree AUC:', dt_auc)"
   ]
  },
  {
   "cell_type": "markdown",
   "id": "b5d342c5-4a93-47bf-a2e9-4f622f1785fb",
   "metadata": {},
   "source": [
    "# Testing"
   ]
  },
  {
   "cell_type": "code",
   "execution_count": 14,
   "id": "751e6605-1575-4d0a-b430-f5418788b41e",
   "metadata": {},
   "outputs": [
    {
     "data": {
      "image/png": "[encoded data removed]",
      "text/plain": [
       "<Figure size 432x288 with 2 Axes>"
      ]
     },
     "metadata": {
      "needs_background": "light"
     },
     "output_type": "display_data"
    },
    {
     "name": "stdout",
     "output_type": "stream",
     "text": [
      "\n",
      "Accuracy: 0.9858156028368794\n",
      "Precision: 0.9782608695652174\n",
      "Recall: 0.9782608695652174\n",
      "Specificity: 0.9894736842105263\n",
      "F1-Score: 0.9782608695652174\n"
     ]
    }
   ],
   "source": [
    "# KNN was the best model\n",
    "y_pred_test_knn = knn.predict(X_test)\n",
    "\n",
    "# Print values of the confusion matrix\n",
    "printConfusionMatrix(y_test, y_pred_test_knn, 'KNN', 'Test')\n",
    "\n",
    "# Print results\n",
    "printResults(y_test, y_pred_test_knn)"
   ]
  }
 ],
 "metadata": {
  "kernelspec": {
   "display_name": "Python 3 (ipykernel)",
   "language": "python",
   "name": "python3"
  },
  "language_info": {
   "codemirror_mode": {
    "name": "ipython",
    "version": 3
   },
   "file_extension": ".py",
   "mimetype": "text/x-python",
   "name": "python",
   "nbconvert_exporter": "python",
   "pygments_lexer": "ipython3",
   "version": "3.9.7"
  }
 },
 "nbformat": 4,
 "nbformat_minor": 5
}
